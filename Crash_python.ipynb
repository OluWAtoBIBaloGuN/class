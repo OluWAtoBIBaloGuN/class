{
 "cells": [
  {
   "cell_type": "code",
   "execution_count": 5,
   "id": "ecaafb53",
   "metadata": {},
   "outputs": [
    {
     "name": "stdout",
     "output_type": "stream",
     "text": [
      "['reiley', 'mountain_bike']\n",
      "['mountain_bike', 'reiley']\n"
     ]
    }
   ],
   "source": [
    "bicycles=['reiley','mountain_bike' ]\n",
    "print(bicycles)\n",
    "bicycles.sort()\n",
    "print(bicycles)"
   ]
  },
  {
   "cell_type": "code",
   "execution_count": 6,
   "id": "d5b91d94",
   "metadata": {},
   "outputs": [
    {
     "name": "stdout",
     "output_type": "stream",
     "text": [
      "Mountain_Bike\n"
     ]
    }
   ],
   "source": [
    "print(bicycles[0].title())\n"
   ]
  },
  {
   "cell_type": "code",
   "execution_count": null,
   "id": "e5ce0986",
   "metadata": {},
   "outputs": [],
   "source": [
    "bicycles.append('range;')\n",
    "print(bicycles)"
   ]
  },
  {
   "cell_type": "code",
   "execution_count": null,
   "id": "3640d497",
   "metadata": {},
   "outputs": [],
   "source": []
  }
 ],
 "metadata": {
  "kernelspec": {
   "display_name": "Python 3 (ipykernel)",
   "language": "python",
   "name": "python3"
  },
  "language_info": {
   "codemirror_mode": {
    "name": "ipython",
    "version": 3
   },
   "file_extension": ".py",
   "mimetype": "text/x-python",
   "name": "python",
   "nbconvert_exporter": "python",
   "pygments_lexer": "ipython3",
   "version": "3.11.5"
  }
 },
 "nbformat": 4,
 "nbformat_minor": 5
}
